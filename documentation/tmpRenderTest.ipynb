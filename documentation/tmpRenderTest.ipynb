<img src="images/flow.jpg" width="800" />

"![Figure 1. Schematic properties.  ](images/flow.jpg)\n"
    
    
    


   XXXXXXXXXX
   
![Figure Schematic properties.](images/flow.jpg)\n"

