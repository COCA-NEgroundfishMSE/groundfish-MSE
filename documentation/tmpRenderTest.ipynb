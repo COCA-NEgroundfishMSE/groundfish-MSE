
"A test file with some images"


<img src="images/flow.jpg" width="85%" />

