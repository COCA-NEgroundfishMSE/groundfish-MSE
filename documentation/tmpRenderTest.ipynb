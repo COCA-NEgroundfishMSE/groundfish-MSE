"![Figure 1. Schematic properties.  ](images/flow.jpg)\n"
    
    
    
   XXXXXXXXXX
   
![Figure Schematic properties.](images/flow.jpg)\n"

